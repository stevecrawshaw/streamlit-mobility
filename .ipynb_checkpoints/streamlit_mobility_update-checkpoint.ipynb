{
 "cells": [
  {
   "cell_type": "code",
   "execution_count": 1,
   "id": "0ffb92d1-2474-41ec-b6d8-b7e8920390c9",
   "metadata": {},
   "outputs": [],
   "source": [
    "import streamlit as st\n",
    "import pandas as pd\n",
    "import matplotlib.pyplot as plt\n",
    "import altair as alt"
   ]
  },
  {
   "cell_type": "code",
   "execution_count": 2,
   "id": "33e522a5-1c8d-46a4-8b94-0a747773d4d1",
   "metadata": {},
   "outputs": [],
   "source": [
    "mob_data = pd.read_csv(\"city_mobility.csv\" )"
   ]
  },
  {
   "cell_type": "code",
   "execution_count": 3,
   "id": "a5a53968-67a2-4605-9899-978802385297",
   "metadata": {},
   "outputs": [
    {
     "data": {
      "text/html": [
       "<div>\n",
       "<style scoped>\n",
       "    .dataframe tbody tr th:only-of-type {\n",
       "        vertical-align: middle;\n",
       "    }\n",
       "\n",
       "    .dataframe tbody tr th {\n",
       "        vertical-align: top;\n",
       "    }\n",
       "\n",
       "    .dataframe thead th {\n",
       "        text-align: right;\n",
       "    }\n",
       "</style>\n",
       "<table border=\"1\" class=\"dataframe\">\n",
       "  <thead>\n",
       "    <tr style=\"text-align: right;\">\n",
       "      <th></th>\n",
       "      <th>city</th>\n",
       "      <th>date</th>\n",
       "      <th>transportation_type</th>\n",
       "      <th>flow</th>\n",
       "    </tr>\n",
       "  </thead>\n",
       "  <tbody>\n",
       "    <tr>\n",
       "      <th>0</th>\n",
       "      <td>Belfast</td>\n",
       "      <td>2020-01-13</td>\n",
       "      <td>driving</td>\n",
       "      <td>100.00</td>\n",
       "    </tr>\n",
       "    <tr>\n",
       "      <th>1</th>\n",
       "      <td>Belfast</td>\n",
       "      <td>2020-01-13</td>\n",
       "      <td>walking</td>\n",
       "      <td>100.00</td>\n",
       "    </tr>\n",
       "    <tr>\n",
       "      <th>2</th>\n",
       "      <td>Belfast</td>\n",
       "      <td>2020-01-13</td>\n",
       "      <td>transit</td>\n",
       "      <td>100.00</td>\n",
       "    </tr>\n",
       "    <tr>\n",
       "      <th>3</th>\n",
       "      <td>Belfast</td>\n",
       "      <td>2020-01-14</td>\n",
       "      <td>driving</td>\n",
       "      <td>108.49</td>\n",
       "    </tr>\n",
       "    <tr>\n",
       "      <th>4</th>\n",
       "      <td>Belfast</td>\n",
       "      <td>2020-01-14</td>\n",
       "      <td>walking</td>\n",
       "      <td>116.70</td>\n",
       "    </tr>\n",
       "  </tbody>\n",
       "</table>\n",
       "</div>"
      ],
      "text/plain": [
       "      city        date transportation_type    flow\n",
       "0  Belfast  2020-01-13             driving  100.00\n",
       "1  Belfast  2020-01-13             walking  100.00\n",
       "2  Belfast  2020-01-13             transit  100.00\n",
       "3  Belfast  2020-01-14             driving  108.49\n",
       "4  Belfast  2020-01-14             walking  116.70"
      ]
     },
     "execution_count": 3,
     "metadata": {},
     "output_type": "execute_result"
    }
   ],
   "source": [
    "mob_data.head()"
   ]
  },
  {
   "cell_type": "code",
   "execution_count": 5,
   "id": "2886f72d-a664-4bba-9ed4-46c80e916d43",
   "metadata": {},
   "outputs": [],
   "source": [
    "cities = list(mob_data['city'].unique())\n",
    "modes = list(mob_data['transportation_type'].unique())\n"
   ]
  },
  {
   "cell_type": "code",
   "execution_count": 6,
   "id": "6f98ff3e-bf78-4872-a8e1-2c4dea98b228",
   "metadata": {},
   "outputs": [],
   "source": [
    "mob_data['date'] = pd.to_datetime(mob_data['date'])"
   ]
  },
  {
   "cell_type": "code",
   "execution_count": 7,
   "id": "18e7ca76-71f2-44bc-bdf6-6d76233a8d9e",
   "metadata": {},
   "outputs": [],
   "source": [
    "mode = \"driving\"\n",
    "city = \"Belfast\""
   ]
  },
  {
   "cell_type": "code",
   "execution_count": 16,
   "id": "a27bcc86-11ec-4646-98ea-70a042a91c09",
   "metadata": {},
   "outputs": [],
   "source": [
    "mode_filtered_df = mob_data[(mob_data['transportation_type'] == mode) & (mob_data['city'] == city)]"
   ]
  },
  {
   "cell_type": "code",
   "execution_count": 17,
   "id": "d191dca7-4abd-489c-93cd-ccf24c35e29f",
   "metadata": {},
   "outputs": [
    {
     "data": {
      "text/html": [
       "<div>\n",
       "<style scoped>\n",
       "    .dataframe tbody tr th:only-of-type {\n",
       "        vertical-align: middle;\n",
       "    }\n",
       "\n",
       "    .dataframe tbody tr th {\n",
       "        vertical-align: top;\n",
       "    }\n",
       "\n",
       "    .dataframe thead th {\n",
       "        text-align: right;\n",
       "    }\n",
       "</style>\n",
       "<table border=\"1\" class=\"dataframe\">\n",
       "  <thead>\n",
       "    <tr style=\"text-align: right;\">\n",
       "      <th></th>\n",
       "      <th>city</th>\n",
       "      <th>date</th>\n",
       "      <th>transportation_type</th>\n",
       "      <th>flow</th>\n",
       "    </tr>\n",
       "  </thead>\n",
       "  <tbody>\n",
       "    <tr>\n",
       "      <th>0</th>\n",
       "      <td>Belfast</td>\n",
       "      <td>2020-01-13</td>\n",
       "      <td>driving</td>\n",
       "      <td>100.00</td>\n",
       "    </tr>\n",
       "    <tr>\n",
       "      <th>3</th>\n",
       "      <td>Belfast</td>\n",
       "      <td>2020-01-14</td>\n",
       "      <td>driving</td>\n",
       "      <td>108.49</td>\n",
       "    </tr>\n",
       "    <tr>\n",
       "      <th>6</th>\n",
       "      <td>Belfast</td>\n",
       "      <td>2020-01-15</td>\n",
       "      <td>driving</td>\n",
       "      <td>111.95</td>\n",
       "    </tr>\n",
       "    <tr>\n",
       "      <th>9</th>\n",
       "      <td>Belfast</td>\n",
       "      <td>2020-01-16</td>\n",
       "      <td>driving</td>\n",
       "      <td>124.10</td>\n",
       "    </tr>\n",
       "    <tr>\n",
       "      <th>12</th>\n",
       "      <td>Belfast</td>\n",
       "      <td>2020-01-17</td>\n",
       "      <td>driving</td>\n",
       "      <td>125.70</td>\n",
       "    </tr>\n",
       "    <tr>\n",
       "      <th>...</th>\n",
       "      <td>...</td>\n",
       "      <td>...</td>\n",
       "      <td>...</td>\n",
       "      <td>...</td>\n",
       "    </tr>\n",
       "    <tr>\n",
       "      <th>2448</th>\n",
       "      <td>Belfast</td>\n",
       "      <td>2022-04-08</td>\n",
       "      <td>driving</td>\n",
       "      <td>193.98</td>\n",
       "    </tr>\n",
       "    <tr>\n",
       "      <th>2451</th>\n",
       "      <td>Belfast</td>\n",
       "      <td>2022-04-09</td>\n",
       "      <td>driving</td>\n",
       "      <td>193.81</td>\n",
       "    </tr>\n",
       "    <tr>\n",
       "      <th>2454</th>\n",
       "      <td>Belfast</td>\n",
       "      <td>2022-04-10</td>\n",
       "      <td>driving</td>\n",
       "      <td>150.56</td>\n",
       "    </tr>\n",
       "    <tr>\n",
       "      <th>2457</th>\n",
       "      <td>Belfast</td>\n",
       "      <td>2022-04-11</td>\n",
       "      <td>driving</td>\n",
       "      <td>170.56</td>\n",
       "    </tr>\n",
       "    <tr>\n",
       "      <th>2460</th>\n",
       "      <td>Belfast</td>\n",
       "      <td>2022-04-12</td>\n",
       "      <td>driving</td>\n",
       "      <td>182.96</td>\n",
       "    </tr>\n",
       "  </tbody>\n",
       "</table>\n",
       "<p>821 rows × 4 columns</p>\n",
       "</div>"
      ],
      "text/plain": [
       "         city       date transportation_type    flow\n",
       "0     Belfast 2020-01-13             driving  100.00\n",
       "3     Belfast 2020-01-14             driving  108.49\n",
       "6     Belfast 2020-01-15             driving  111.95\n",
       "9     Belfast 2020-01-16             driving  124.10\n",
       "12    Belfast 2020-01-17             driving  125.70\n",
       "...       ...        ...                 ...     ...\n",
       "2448  Belfast 2022-04-08             driving  193.98\n",
       "2451  Belfast 2022-04-09             driving  193.81\n",
       "2454  Belfast 2022-04-10             driving  150.56\n",
       "2457  Belfast 2022-04-11             driving  170.56\n",
       "2460  Belfast 2022-04-12             driving  182.96\n",
       "\n",
       "[821 rows x 4 columns]"
      ]
     },
     "execution_count": 17,
     "metadata": {},
     "output_type": "execute_result"
    }
   ],
   "source": [
    "mode_filtered_df"
   ]
  },
  {
   "cell_type": "code",
   "execution_count": 18,
   "id": "01444474-786d-403b-ac72-19f3276bd519",
   "metadata": {},
   "outputs": [],
   "source": [
    "plot_df = mode_filtered_df.set_index(\"date\") \\\n",
    ".drop(columns = \"transportation_type\")\n"
   ]
  },
  {
   "cell_type": "code",
   "execution_count": null,
   "id": "bae89f0a-d80f-4347-9286-f6893c9b24dd",
   "metadata": {},
   "outputs": [],
   "source": [
    "\n",
    "lines = (\n",
    "    alt.Chart(plot_df)\n",
    "    .mark_line()\n",
    "    .encode(x=\"date\", y=\"flow\")\n",
    ")\n",
    "\n",
    "xrule = (\n",
    "    alt.Chart()\n",
    "    .mark_rule(color=\"cyan\", strokeWidth=2)\n",
    "    .encode(x=alt.datum(alt.DateTime(year=2020, month=\"March\")))\n",
    ")\n",
    "\n",
    "# yrule = (\n",
    "#     alt.Chart().mark_rule(strokeDash=[12, 6], size=2).encode(y=alt.datum(350))\n",
    "# )\n",
    "\n",
    "\n",
    "lines + xrule"
   ]
  },
  {
   "cell_type": "code",
   "execution_count": null,
   "id": "63e1e264-8d2b-479b-b371-f535f4b9c68a",
   "metadata": {},
   "outputs": [],
   "source": []
  },
  {
   "cell_type": "code",
   "execution_count": null,
   "id": "18a478bc-e831-4c35-9ace-a414d956895b",
   "metadata": {},
   "outputs": [],
   "source": []
  },
  {
   "cell_type": "code",
   "execution_count": null,
   "id": "25b6ff6d-3f58-4c7f-9e60-2adc8600206d",
   "metadata": {},
   "outputs": [],
   "source": []
  },
  {
   "cell_type": "code",
   "execution_count": null,
   "id": "09425652-0938-4380-9c19-fd1f4cfa1141",
   "metadata": {},
   "outputs": [],
   "source": []
  },
  {
   "cell_type": "code",
   "execution_count": null,
   "id": "1e5ad207-61eb-4d97-a131-b1a24bf10aa7",
   "metadata": {},
   "outputs": [],
   "source": []
  },
  {
   "cell_type": "code",
   "execution_count": null,
   "id": "54e03d20-b721-437e-83ba-808b5a242fba",
   "metadata": {},
   "outputs": [],
   "source": []
  },
  {
   "cell_type": "code",
   "execution_count": null,
   "id": "4346450b-716b-4f00-8cce-eaae265a3487",
   "metadata": {},
   "outputs": [],
   "source": []
  },
  {
   "cell_type": "code",
   "execution_count": null,
   "id": "54ecf216-e63b-449b-bc63-2981f5d4a7fd",
   "metadata": {},
   "outputs": [],
   "source": []
  },
  {
   "cell_type": "code",
   "execution_count": null,
   "id": "938dbd37-e45a-4c8c-ad53-85e72b630fb9",
   "metadata": {},
   "outputs": [],
   "source": []
  },
  {
   "cell_type": "code",
   "execution_count": null,
   "id": "0a5c4f05-5b4a-4fe6-812f-d4e49a60d98d",
   "metadata": {},
   "outputs": [],
   "source": []
  },
  {
   "cell_type": "code",
   "execution_count": null,
   "id": "7aef18f4-3a7c-4158-a028-4605f238111a",
   "metadata": {},
   "outputs": [],
   "source": []
  },
  {
   "cell_type": "code",
   "execution_count": null,
   "id": "2cd8fefb-6aa4-4777-8a86-b9ffb42675e6",
   "metadata": {},
   "outputs": [],
   "source": []
  }
 ],
 "metadata": {
  "kernelspec": {
   "display_name": "Python 3 (ipykernel)",
   "language": "python",
   "name": "python3"
  },
  "language_info": {
   "codemirror_mode": {
    "name": "ipython",
    "version": 3
   },
   "file_extension": ".py",
   "mimetype": "text/x-python",
   "name": "python",
   "nbconvert_exporter": "python",
   "pygments_lexer": "ipython3",
   "version": "3.11.0"
  }
 },
 "nbformat": 4,
 "nbformat_minor": 5
}
